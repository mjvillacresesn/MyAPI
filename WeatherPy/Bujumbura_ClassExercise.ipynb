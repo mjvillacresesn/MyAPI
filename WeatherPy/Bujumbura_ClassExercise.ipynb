{
 "cells": [
  {
   "cell_type": "markdown",
   "metadata": {},
   "source": [
    "# Instructions:\n",
    "Get weather for Bujumbura in Celsius\n",
    "\n",
    "Note: The standard weather output is in Kelvin units, must use unit=\"metric\" for Celsius"
   ]
  },
  {
   "cell_type": "code",
   "execution_count": 2,
   "metadata": {},
   "outputs": [],
   "source": [
    "#import our dependencies\n",
    "import requests\n",
    "from config import api_key"
   ]
  },
  {
   "cell_type": "code",
   "execution_count": 3,
   "metadata": {},
   "outputs": [],
   "source": [
    "# APi calls : \"http://api.openweathermap.org/data/2.5/weather?appid={api_key}&PARAMETERs\"\n",
    "#save config info\n",
    "url = \"http://api.openweathermap.org/data/2.5/weather?\"\n",
    "city = \"Bujumbura\"\n",
    "units = \"metric\""
   ]
  },
  {
   "cell_type": "code",
   "execution_count": 5,
   "metadata": {},
   "outputs": [
    {
     "data": {
      "text/plain": [
       "'http://api.openweathermap.org/data/2.5/weather?appid=8d91ea277d6ce8fb8ff2375f8474130e&q=Bujumbura&units=metric'"
      ]
     },
     "execution_count": 5,
     "metadata": {},
     "output_type": "execute_result"
    }
   ],
   "source": [
    "#format we will use for API calls\n",
    "query_url = f\"{url}appid={api_key}&q={city}&units={units}\"\n",
    "#print url and paste in window to check\n",
    "query_url"
   ]
  },
  {
   "cell_type": "code",
   "execution_count": 6,
   "metadata": {},
   "outputs": [
    {
     "data": {
      "text/plain": [
       "{'coord': {'lon': 29.37, 'lat': -3.36},\n",
       " 'weather': [{'id': 501,\n",
       "   'main': 'Rain',\n",
       "   'description': 'moderate rain',\n",
       "   'icon': '10n'}],\n",
       " 'base': 'stations',\n",
       " 'main': {'temp': 17.1,\n",
       "  'pressure': 857.54,\n",
       "  'humidity': 100,\n",
       "  'temp_min': 17.1,\n",
       "  'temp_max': 17.1,\n",
       "  'sea_level': 1024.39,\n",
       "  'grnd_level': 857.54},\n",
       " 'wind': {'speed': 0.86, 'deg': 118.001},\n",
       " 'rain': {'3h': 3.49},\n",
       " 'clouds': {'all': 92},\n",
       " 'dt': 1545327283,\n",
       " 'sys': {'message': 0.0048,\n",
       "  'country': 'BI',\n",
       "  'sunrise': 1545277848,\n",
       "  'sunset': 1545322200},\n",
       " 'id': 425378,\n",
       " 'name': 'Bujumbura',\n",
       " 'cod': 200}"
      ]
     },
     "execution_count": 6,
     "metadata": {},
     "output_type": "execute_result"
    }
   ],
   "source": [
    "# get request from url, save in variable\n",
    "weather_response = requests.get(query_url)\n",
    "#save info in json file\n",
    "weather_json = weather_response.json()\n",
    "weather_json"
   ]
  },
  {
   "cell_type": "code",
   "execution_count": 9,
   "metadata": {},
   "outputs": [
    {
     "data": {
      "text/plain": [
       "17.1"
      ]
     },
     "execution_count": 9,
     "metadata": {},
     "output_type": "execute_result"
    }
   ],
   "source": [
    "#get Temperature from json file\n",
    "#access the temperature from keys \"main\" then \"temp\"\n",
    "temperature = weather_json[\"main\"][\"temp\"]\n",
    "temperature"
   ]
  },
  {
   "cell_type": "code",
   "execution_count": 11,
   "metadata": {},
   "outputs": [
    {
     "name": "stdout",
     "output_type": "stream",
     "text": [
      "The Temperature in Bujumbura is 17.1 Celsius.\n"
     ]
    }
   ],
   "source": [
    "#report the temp\n",
    "print(f\"The Temperature in Bujumbura is {temperature} Celsius.\")"
   ]
  },
  {
   "cell_type": "code",
   "execution_count": 22,
   "metadata": {},
   "outputs": [
    {
     "name": "stdout",
     "output_type": "stream",
     "text": [
      "[17.1]\n",
      "[17.1, 62.78]\n",
      "[17.1, 62.78, 290.251]\n",
      "The Temperature in Bujumbura is 17.1 Celsius, 62.78 F, and 290.251 K.\n"
     ]
    }
   ],
   "source": [
    "#BONUS: REPORT IN C AND F\n",
    "\n",
    "#create a list that holds both units\n",
    "units = [\"metric\", \"imperial\", \"kelvin\"]\n",
    "\n",
    "#set up a list to hold two different temps\n",
    "temperatures = []\n",
    "\n",
    "#loop through each unit measurement and save it in variable, (set up before call)\n",
    "for unit in units:\n",
    "    query_url = f\"{url}appid={api_key}&q={city}&units={unit}\"\n",
    "    \n",
    "    # get request from url, save in variable\n",
    "    weather_response = requests.get(query_url)\n",
    "    #save info in json file\n",
    "    weather_json = weather_response.json()\n",
    "    #print(weather_json)\n",
    "    \n",
    "    #get just the temp VALUE and appended to my \"temperatures\" list\n",
    "    temperature = weather_json[\"main\"][\"temp\"]\n",
    "    #object -temperature\n",
    "    \n",
    "    #append to save as list\n",
    "    temperatures.append(temperature)\n",
    "    print(temperatures)\n",
    "    \n",
    "#report the temp\n",
    "print(f\"The Temperature in Bujumbura is {temperatures[0]} Celsius, {temperatures[1]} F, and {temperatures[2]} K.\")"
   ]
  },
  {
   "cell_type": "code",
   "execution_count": null,
   "metadata": {},
   "outputs": [],
   "source": []
  }
 ],
 "metadata": {
  "kernelspec": {
   "display_name": "Python 3",
   "language": "python",
   "name": "python3"
  },
  "language_info": {
   "codemirror_mode": {
    "name": "ipython",
    "version": 3
   },
   "file_extension": ".py",
   "mimetype": "text/x-python",
   "name": "python",
   "nbconvert_exporter": "python",
   "pygments_lexer": "ipython3",
   "version": "3.7.0"
  }
 },
 "nbformat": 4,
 "nbformat_minor": 2
}
